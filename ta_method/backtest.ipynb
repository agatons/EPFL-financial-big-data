{
 "cells": [
  {
   "cell_type": "code",
   "execution_count": null,
   "metadata": {},
   "outputs": [],
   "source": [
    "%%time\n",
    "import datetime\n",
    "import pandas as pd\n",
    "import numpy as np\n",
    "from imp import reload\n",
    "import src.helpers as helpers\n",
    "reload(helpers)\n",
    "import src.helpers as helpers\n",
    "import src.strats as strats\n",
    "reload(strats)\n",
    "import src.strats as strats\n",
    "import glob\n",
    "\n",
    "import dask\n",
    "dask.config.set(scheduler='processes')\n",
    "\n",
    "\n",
    "path = r'../data/clean/swe_equ' # use your path\n",
    "allfiles = glob.glob(path + \"/*.csv\")\n",
    "\n",
    "def get_signal_data(file_name):\n",
    "    data = pd.read_csv(file_name, parse_dates=['Date'], index_col=['Date'])\n",
    "    return strats.data_momentum(data)\n",
    "\n",
    "worker_delayed = dask.delayed(get_signal_data)\n",
    "allfiles = np.random.choice(allfiles, 56, replace=False)\n",
    "allpromises = [(worker_delayed(fn), fn[len(path)+1:-4]) for fn in allfiles]\n",
    "\n",
    "all_dfs = dask.compute(allpromises)\n",
    "\n",
    "trade_df = helpers.get_trade_df(all_dfs[0])\n",
    "\n",
    "strats.plot_trades_multiple(trade_df.copy())\n",
    "result = strats.evaluate_strat_multiple(trade_df)\n",
    "strats.print_evaluation(result)"
   ]
  }
 ],
 "metadata": {
  "kernelspec": {
   "display_name": "Python 3",
   "language": "python",
   "name": "python3"
  },
  "language_info": {
   "codemirror_mode": {
    "name": "ipython",
    "version": 3
   },
   "file_extension": ".py",
   "mimetype": "text/x-python",
   "name": "python",
   "nbconvert_exporter": "python",
   "pygments_lexer": "ipython3",
   "version": "3.7.6"
  }
 },
 "nbformat": 4,
 "nbformat_minor": 4
}
